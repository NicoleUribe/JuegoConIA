{
 "cells": [
  {
   "cell_type": "code",
   "execution_count": 5,
   "id": "cc6e6843",
   "metadata": {},
   "outputs": [],
   "source": [
    "import numpy as np\n",
    "import copy\n",
    "import matplotlib.pyplot as plt"
   ]
  },
  {
   "cell_type": "code",
   "execution_count": 6,
   "id": "1c949d76",
   "metadata": {},
   "outputs": [],
   "source": [
    "class State:\n",
    "    def __init__(self):\n",
    "        self.game_board = self.initial_game_board()\n",
    "        self.current_player = \"MAX_PLAYER\"\n",
    "        \n",
    "    def initial_game_board(self):\n",
    "        initial_state = np.zeros(shape=(4,4), dtype=np.str_) #int32)\n",
    "        initial_state[0,0] = 'X'\n",
    "        initial_state[1,1] = 'X'\n",
    "        initial_state[2,2] = 'X'\n",
    "        initial_state[3,3] = 'X'\n",
    "        initial_state[0,3] = 'O'\n",
    "        initial_state[1,2] = 'O'\n",
    "        initial_state[2,1] = 'O'\n",
    "        initial_state[3,0] = 'O'\n",
    "        return initial_state"
   ]
  },
  {
   "cell_type": "code",
   "execution_count": 7,
   "id": "ea7c4996",
   "metadata": {},
   "outputs": [],
   "source": [
    "max_limit = 3\n",
    "min_limit = 0\n",
    "\n",
    "def out_of_boundaries(pos):\n",
    "    return pos < min_limit or pos > max_limit\n",
    "\n",
    "def not_out_of_limits(row, column):\n",
    "    return not out_of_boundaries(row) and not out_of_boundaries(column)\n",
    "\n",
    "def vertical_up_action(row, column):\n",
    "    return row+1, column\n",
    "\n",
    "def vertical_down_action(row, column):\n",
    "    return row-1, column\n",
    "\n",
    "def horizontal_left_action(row, column):\n",
    "    return row, column-1\n",
    "\n",
    "def horizontal_right_action(row, column):\n",
    "    return row, column+1\n",
    "\n",
    "def diagonal_ul_action(row, column):\n",
    "    return row+1, column-1\n",
    "\n",
    "def diagonal_ur_action(row, column):\n",
    "    return row+1, column+1\n",
    "\n",
    "def diagonal_dl_action(row, column):\n",
    "    return row-1, column-1\n",
    "\n",
    "def diagonal_dr_action(row, column):\n",
    "    return row-1, column+1"
   ]
  },
  {
   "cell_type": "code",
   "execution_count": 8,
   "id": "4158f04a",
   "metadata": {},
   "outputs": [
    {
     "name": "stdout",
     "output_type": "stream",
     "text": [
      "[['X' '' '' 'O']\n",
      " ['' 'X' 'O' '']\n",
      " ['' 'O' 'X' '']\n",
      " ['O' '' '' 'X']]\n",
      "--------------\n"
     ]
    }
   ],
   "source": [
    "state = State()\n",
    "print(state.game_board)\n",
    "print(\"--------------\")"
   ]
  },
  {
   "cell_type": "code",
   "execution_count": null,
   "id": "9954e5fd",
   "metadata": {},
   "outputs": [],
   "source": []
  },
  {
   "cell_type": "code",
   "execution_count": null,
   "id": "f7b0f011",
   "metadata": {},
   "outputs": [],
   "source": []
  },
  {
   "cell_type": "code",
   "execution_count": null,
   "id": "b42b3075",
   "metadata": {},
   "outputs": [],
   "source": []
  },
  {
   "cell_type": "code",
   "execution_count": null,
   "id": "215a335a",
   "metadata": {},
   "outputs": [],
   "source": []
  }
 ],
 "metadata": {
  "kernelspec": {
   "display_name": "Python 3 (ipykernel)",
   "language": "python",
   "name": "python3"
  },
  "language_info": {
   "codemirror_mode": {
    "name": "ipython",
    "version": 3
   },
   "file_extension": ".py",
   "mimetype": "text/x-python",
   "name": "python",
   "nbconvert_exporter": "python",
   "pygments_lexer": "ipython3",
   "version": "3.9.13"
  }
 },
 "nbformat": 4,
 "nbformat_minor": 5
}
