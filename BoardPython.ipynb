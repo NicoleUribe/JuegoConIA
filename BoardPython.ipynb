{
 "cells": [
  {
   "cell_type": "code",
   "execution_count": 1,
   "id": "cc6e6843",
   "metadata": {},
   "outputs": [],
   "source": [
    "import numpy as np\n",
    "import math\n",
    "import matplotlib.pyplot as plt\n",
    "import copy"
   ]
  },
  {
   "cell_type": "code",
   "execution_count": 2,
   "id": "1c949d76",
   "metadata": {},
   "outputs": [],
   "source": [
    "class State:\n",
    "    def __init__(self, current_player=\"MAX\"):\n",
    "        self.game_board = self.initial_game_board()\n",
    "        self.current_player = current_player\n",
    "        \n",
    "    def initial_game_board(self):\n",
    "        initial_state = np.zeros(shape=(4,4), dtype=np.int32)\n",
    "        initial_state[0,0] = 1\n",
    "        initial_state[1,1] = 1\n",
    "        initial_state[2,2] = 1\n",
    "        initial_state[3,3] = 1\n",
    "        initial_state[0,3] = -1\n",
    "        initial_state[1,2] = -1\n",
    "        initial_state[2,1] = -1\n",
    "        initial_state[3,0] = -1\n",
    "        return initial_state"
   ]
  },
  {
   "cell_type": "code",
   "execution_count": 3,
   "id": "ea7c4996",
   "metadata": {},
   "outputs": [],
   "source": [
    "max_limit = 3\n",
    "min_limit = 0\n",
    "\n",
    "def out_of_boundaries(pos):\n",
    "    return pos < min_limit or pos > max_limit\n",
    "\n",
    "def not_out_of_limits(row, column):\n",
    "    return not out_of_boundaries(row) and not out_of_boundaries(column)\n",
    "\n",
    "def down_function(row, column):\n",
    "    return row+1, column\n",
    "\n",
    "def up_function(row, column):\n",
    "    return row-1, column\n",
    "\n",
    "def left_function(row, column):\n",
    "    return row, column-1\n",
    "\n",
    "def right_function(row, column):\n",
    "    return row, column+1\n",
    "\n",
    "def up_left_function(row, column):\n",
    "    return row-1, column-1\n",
    "\n",
    "def up_right_function(row, column):\n",
    "    return row-1, column+1\n",
    "\n",
    "def down_left_function(row, column):\n",
    "    return row+1, column-1\n",
    "\n",
    "def down_right_function(row, column):\n",
    "    return row+1, column+1\n",
    "\n",
    "#def up_left_function(row, column):\n",
    "    #return up_function(*left_function(row, column))\n",
    "\n",
    "#def up_right_function(row, column):\n",
    "    #return up_function(*right_function(row, column))\n",
    "\n",
    "#def down_left_function(row, column):\n",
    "    #return down_function(*left_function(row, column))\n",
    "\n",
    "#def down_right_function(row, column):\n",
    "    #return down_function(*right_function(row, column))\n",
    "\n",
    "def move_function(state, value, row, col, move_func):\n",
    "    # Check if row and column are within limits\n",
    "    # Check if the value at (row, col) is the same as the given value\n",
    "    if not_out_of_limits(row, col) and state.game_board[row, col] == value:\n",
    "            # Get the new row and column based on the move function\n",
    "            new_row, new_col = move_func(row, col)\n",
    "            # Check if the new position is within limits and is free from other player\n",
    "            if not_out_of_limits(new_row, new_col) and state.game_board[new_row, new_col] == 0:\n",
    "                # Move the value to the new position\n",
    "                state.game_board[new_row, new_col] = value\n",
    "                # Set the old position to 0\n",
    "                state.game_board[row, col] = 0\n",
    "    # Return the updated state\n",
    "    return state"
   ]
  },
  {
   "cell_type": "code",
   "execution_count": 4,
   "id": "4158f04a",
   "metadata": {},
   "outputs": [
    {
     "name": "stdout",
     "output_type": "stream",
     "text": [
      "[[ 1  0  0 -1]\n",
      " [ 0  1 -1  0]\n",
      " [ 0 -1  1  0]\n",
      " [-1  0  0  1]]\n",
      "-------------\n",
      "[[ 0  0  0 -1]\n",
      " [ 1  1 -1  0]\n",
      " [ 0 -1  1  0]\n",
      " [-1  0  0  1]]\n",
      "-------------\n",
      "[[ 0  0  0 -1]\n",
      " [ 1  1 -1  0]\n",
      " [ 0  0  1  0]\n",
      " [-1  0 -1  1]]\n"
     ]
    }
   ],
   "source": [
    "a = State(\"MAX\")\n",
    "print(a.game_board)\n",
    "print(\"-------------\")\n",
    "print(move_function(a, 1, 0, 0, down_function).game_board)\n",
    "print(\"-------------\")\n",
    "print(move_function(a, -1, 2, 1, down_right_function).game_board)\n",
    "#print(move_function(a, -1, 1, 2, right_function).game_board)\n",
    "#print(\"-------------\")\n",
    "#print(move_function(a, 1, 1, 1, left_function).game_board)\n",
    "#print(\"-------------\")\n",
    "#print(move_function(a, -1, 2, 1, down_function).game_board)"
   ]
  },
  {
   "cell_type": "code",
   "execution_count": null,
   "id": "9954e5fd",
   "metadata": {},
   "outputs": [],
   "source": []
  },
  {
   "cell_type": "code",
   "execution_count": null,
   "id": "f7b0f011",
   "metadata": {},
   "outputs": [],
   "source": []
  },
  {
   "cell_type": "code",
   "execution_count": null,
   "id": "b42b3075",
   "metadata": {},
   "outputs": [],
   "source": []
  },
  {
   "cell_type": "code",
   "execution_count": null,
   "id": "215a335a",
   "metadata": {},
   "outputs": [],
   "source": []
  }
 ],
 "metadata": {
  "kernelspec": {
   "display_name": "Python 3 (ipykernel)",
   "language": "python",
   "name": "python3"
  },
  "language_info": {
   "codemirror_mode": {
    "name": "ipython",
    "version": 3
   },
   "file_extension": ".py",
   "mimetype": "text/x-python",
   "name": "python",
   "nbconvert_exporter": "python",
   "pygments_lexer": "ipython3",
   "version": "3.9.13"
  }
 },
 "nbformat": 4,
 "nbformat_minor": 5
}
